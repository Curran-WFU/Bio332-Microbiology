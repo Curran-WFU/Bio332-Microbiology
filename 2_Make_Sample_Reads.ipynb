{
  "nbformat": 4,
  "nbformat_minor": 0,
  "metadata": {
    "colab": {
      "name": "2.Make.Sample.Reads.ipynb",
      "provenance": []
    },
    "kernelspec": {
      "name": "python3",
      "display_name": "Python 3"
    }
  },
  "cells": [
    {
      "cell_type": "code",
      "metadata": {
        "id": "LdR2tJ7KWdUQ",
        "colab": {
          "base_uri": "https://localhost:8080/",
          "height": 292
        },
        "outputId": "716c0a68-288c-4aea-e2c5-0304b72ff8dc"
      },
      "source": [
        "# makes a list of overlapping sequences from a snippet of a genbank \n",
        "\n",
        "passnum = 1\n",
        "from google.colab import drive\n",
        "drive.mount('/content/gdrive')\n",
        "filename = '/content/gdrive/Shared drives/2.Python/Genomics/Data Files/Sample.Genome.Raw.' +str(passnum)+ '.txt'\n",
        "outname =  '/content/gdrive/Shared drives/2.Python/Genomics/Data Files/Sample.Genome.Reads.' +str(passnum)+ '.txt'\n",
        "\n",
        "with open(filename, 'rb') as f:\n",
        "  data = str(f.read())\n",
        "  print(repr(data)[:200])\n",
        "  print(repr(data)[-200:])\n",
        "f.close()\n",
        "\n",
        "rawlist = data.split('\\\\n')\n",
        "rawlist.pop()\n",
        "\n",
        "reads1 =[]\n",
        "for x in range(len(rawlist)):\n",
        "  seq =''\n",
        "  for y in range(len(rawlist[x])):\n",
        "    if rawlist[x][y] in ('a', 't', 'c', 'g'):\n",
        "      seq += rawlist[x][y]\n",
        "  reads1.append(seq)\n",
        "\n",
        "def rev(string1):  \n",
        "  string2 =''\n",
        "  for x in string1:\n",
        "    if   x == 'c': string2 += 'g'\n",
        "    elif x == 'g': string2 += 'c'\n",
        "    elif x == 't': string2 += 'a'\n",
        "    elif x == 'a': string2 += 't'\n",
        "  string3 = string2[::-1]  \n",
        "  return(string3)\n",
        "\n",
        "reads2 =[]\n",
        "reads2.append(reads1[0])\n",
        "for x in range(1,len(reads1)):\n",
        "  if x % 2 == 0:\n",
        "    try:\n",
        "      reads2.append(reads1[x-1][30:] + reads1[x] )\n",
        "    except: pass\n",
        "  else:\n",
        "    try: \n",
        "      reads2.append(rev(reads1[x-1][30:] + reads1[x]))\n",
        "    except: pass\n",
        "\n",
        "print(len(reads1), len(reads2))\n",
        "for x in range(10):\n",
        "  print(reads1[x], reads2[x])\n",
        "\n",
        "with open(outname, 'w') as g:\n",
        "  for x in range(len(reads2)):\n",
        "    g.write(reads2[x] + '\\n')\n",
        "g.close()"
      ],
      "execution_count": null,
      "outputs": [
        {
          "output_type": "stream",
          "text": [
            "Drive already mounted at /content/gdrive; to attempt to forcibly remount, call drive.mount(\"/content/gdrive\", force_remount=True).\n",
            "\"b'gcatattcgt acagtttttt gccctgatat ttcagtgctg aatacatcga agggatctgt\\\\r\\\\n\\\\xff\\\\xff3310441 tcgatatcgc cacggaaagt atccagtgcc gctgccagct gctctgcgct aaaggttacc\\\\r\\\\n\\\\xff\\\\xff3310501 ggacgttctt caacgatc\n",
            "ctggggtg\\\\r\\\\n\\\\xff\\\\xff3317041 acggtagcac ctacaaagga aacgatatcg aacgtttcta tcgttatggt ctgctgacca\\\\r\\\\n\\\\xff\\\\xff3317101 atgctgaact gcagatttac aaaccgtggc ttgatactga ctttattgat gaactgggcg\\\\r\\\\n\\\\r\\\\n'\"\n",
            "114 114\n",
            "gcatattcgtacagttttttgccctgatatttcagtgctgaatacatcgaagggatctgt gcatattcgtacagttttttgccctgatatttcagtgctgaatacatcgaagggatctgt\n",
            "tcgatatcgccacggaaagtatccagtgccgctgccagctgctctgcgctaaaggttacc ggtaacctttagcgcagagcagctggcagcggcactggatactttccgtggcgatatcgaacagatcccttcgatgtattcagcactgaa\n",
            "ggacgttcttcaacgatctgtccgtcggcatcagaagtatcggtacgctgtccaagacgc gctgccagctgctctgcgctaaaggttaccggacgttcttcaacgatctgtccgtcggcatcagaagtatcggtacgctgtccaagacgc\n",
            "gcaatgacccgatagcgtttgtcggagtccagcagatactgggaaaacttcgtcgcttcc ggaagcgacgaagttttcccagtatctgctggactccgacaaacgctatcgggtcattgcgcgtcttggacagcgtaccgatacttctga\n",
            "ccgaggcaaatcggcaacatgccggtcgccagcgggtccagcgcaccggtatgcccggca agcagatactgggaaaacttcgtcgcttccccgaggcaaatcggcaacatgccggtcgccagcgggtccagcgcaccggtatgcccggca\n",
            "cggttggcgttatatatacgtttcactttttgcagcgcatcgttgctggacataccctga tcagggtatgtccagcaacgatgcgctgcaaaaagtgaaacgtatatataacgccaaccgtgccgggcataccggtgcgctggacccgct\n",
            "ggtttatccagcaacaaaacgccgttaatgtcgcgaccgcgacgacgaggacgactcatt tgcagcgcatcgttgctggacataccctgaggtttatccagcaacaaaacgccgttaatgtcgcgaccgcgacgacgaggacgactcatt\n",
            "agtcctccttgctgtcgtccgggttaacacgacgttcttcgtcatgtttgaccacgctgg ccagcgtggtcaaacatgacgaagaacgtcgtgttaacccggacgacagcaaggaggactaatgagtcgtcctcgtcgtcgcggtcgcga\n",
            "tcaccaggtttgacatgcgcatcccttcaaccagagagttgtcgtagaagaaggtcagtt gacgttcttcgtcatgtttgaccacgctggtcaccaggtttgacatgcgcatcccttcaaccagagagttgtcgtagaagaaggtcagtt\n",
            "ccggcacgatacgcaggcgcatcgctttccccagcaggctgcggatgaaaccagaagctt aagcttctggtttcatccgcagcctgctggggaaagcgatgcgcctgcgtatcgtgccggaactgaccttcttctacgacaactctctgg\n"
          ],
          "name": "stdout"
        }
      ]
    }
  ]
}