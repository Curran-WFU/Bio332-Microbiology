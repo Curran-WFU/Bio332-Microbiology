{
  "nbformat": 4,
  "nbformat_minor": 0,
  "metadata": {
    "colab": {
      "name": "6.Contig.Viewer.ipynb",
      "provenance": []
    },
    "kernelspec": {
      "name": "python3",
      "display_name": "Python 3"
    }
  },
  "cells": [
    {
      "cell_type": "code",
      "metadata": {
        "id": "4h635JsVOzau",
        "colab": {
          "base_uri": "https://localhost:8080/",
          "height": 255
        },
        "outputId": "1c478293-604b-4f32-9ad0-242c007291da"
      },
      "source": [
        "# for viewing contigs\n",
        "\n",
        "passnum = 1\n",
        "from google.colab import drive\n",
        "drive.mount('/content/gdrive')\n",
        "filename = '/content/gdrive/Shared drives/2.Python/Genomics/Data Files/Sample.Genome.Contig.' +str(passnum)+ '.txt'\n",
        "\n",
        "with open(filename, 'rb') as f:\n",
        "  data = str(f.read())\n",
        "  print()\n",
        "  print('The ends of sequences in the data file:')\n",
        "  print(repr(data)[:100])\n",
        "  print(repr(data)[-100:])\n",
        "f.close()\n",
        "\n",
        "contig = data.replace('\"', '').replace('b', '')\n",
        "print()\n",
        "print('The cleaned up ends of the contig:')\n",
        "print(contig[:100])\n",
        "print(contig[-100:])\n",
        "\n",
        "print()\n",
        "print('The entire contig:')\n",
        "print(contig)"
      ],
      "execution_count": null,
      "outputs": [
        {
          "output_type": "stream",
          "text": [
            "Drive already mounted at /content/gdrive; to attempt to forcibly remount, call drive.mount(\"/content/gdrive\", force_remount=True).\n",
            "\n",
            "The ends of sequences in the data file:\n",
            "\"b'gcatattcgtacagttttttgccctgatatttcagtgctgaatacatcgaagggatctgttcgatatcgccacggaaagtatccagtgccgctgcca\n",
            "cgatatcgaacgtttctatcgttatggtctgctgaccaatgctgaactgcagatttacaaaccgtggcttgatactgactttattgatgaactgggcg'\"\n",
            "\n",
            "The cleaned up ends of the contig:\n",
            "'gcatattcgtacagttttttgccctgatatttcagtgctgaatacatcgaagggatctgttcgatatcgccacggaaagtatccagtgccgctgccagc\n",
            "acgatatcgaacgtttctatcgttatggtctgctgaccaatgctgaactgcagatttacaaaccgtggcttgatactgactttattgatgaactgggcg'\n",
            "\n",
            "The entire contig:\n",
            "'gcatattcgtacagttttttgccctgatatttcagtgctgaatacatcgaagggatctgttcgatatcgccacggaaagtatccagtgccgctgccagctgctctgcgctaaaggttaccggacgttcttcaacgatctgtccgtcggcatcagaagtatcggtacgctgtccaagacgcgcaatgacccgatagcgtttgtcggagtccagcagatactgggaaaacttcgtcgcttccccgaggcaaatcggcaacatgccggtcgccagcgggtccagcgcaccggtatgcccggcacggttggcgttatatatacgtttcactttttgcagcgcatcgttgctggacataccctgaggtttatccagcaacaaaacgccgttaatgtcgcgaccgcgacgacgaggacgactcattagtcctccttgctgtcgtccgggttaacacgacgttcttcgtcatgtttgaccacgctggtcaccaggtttgacatgcgcatcccttcaaccagagagttgtcgtagaagaaggtcagttccggcacgatacgcaggcgcatcgctttccccagcaggctgcggatgaaaccagaagcttcttgcaacgctttgatgcccgctttaaccgcgtcttcatctttgtcgttgaggaacgtcacatatactttggcatacgccaggtcgcgagacatttcgacaccggaaacggtggtcatcatgcccaggcgaggatctttaatttcacgctgcaggatgagagcgatctctttttgcatttcctgcgctacgcgctgcgggcgaccaaattctttcgccataataaattctcctgacaaaaaaggggctgttagcccctttttaaaattaatttcaggtggaagggctgttcacgttgacctgataagacgcgccagcgtcacatcaggcaatccatgccggatgcagcgtaaacgccttatcccgcatggaaccctaaaaaccttaagcaatggtacgttggatctcgatgatttcgaatacttcgatcacatcgccagtgcggacgtcgttgtagttcttaacgccgataccacattccataccgttacggacttcgttaacgtcatctttgaagcggcgcagggactccagctcgccttcgtagataaccacgttgtcacgcagaacgcggatcgggttgtgacgtttaaccacaccttcggtaaccatacagcctgcgatggcaccaaatttcggcgatttgaacacgtcacgaacttccgccagaccgataatctgctgtttcagttccggagacagcataccgctcatcgccgctttcacttcgtcaatcaggttatagatgacggagtagtaacgcagatccaggctttccgcttcaatcactttacgtgcagaggcatcagcacgtacgttaaagccaaccaggatggcgttggacgccgcagccagggtggcgtcggtttcggtgataccacctacgccagaaccgatgatcttcactttaacttcgtcagtagacagtttcagcaaggagtcggagatcgcttcgacagaaccctgtacgtctgccttcaggacgatattcacttcgtgaacttcgccttcggtcatgttggcgaacatgttctcgagtttagatttctgctgacgcgccagtttaacttcgcggaatttaccctgacgatagagtgcaacttcacgcgctttcttctcgtcacgtacaacggtaacttcatcacccgcagccggtacgccggacaggccgaggatttccaccggaatggacggacccgcttccagcacttcctgacccagttcgttacgcatcgcacgaacacgaccgtattcgaagccacacagaacgatatcgcccttgtgcagagtaccttcacgtaccagaacggtagcaaccggaccacgacctttatcgaggaaggattcgataaccgcaccgctcgccatacctttacgtaccgctttcagctccagaacttccgcctgcagcaggatagcgtccagcagttcatcgataccggtacccgctttcgcagatacgtgtacgaactggctttcaccgccccactcttccggcaggatgccgtactgggagagttcgttcttaacgcgatccggatcagcttctggtttatcgatcttgttcactgcaaccaccaccggtacctgcgccgctttcgcgtgctggattgcttcgatggtctgcggcatcacaccgtcgtcggcagcaacaaccaggactacgatgtccgttgcctgcgcaccacgagcacgcattgaagtaaacgcggcgtgccccggggtgtccaggaaggtgatcatgccgttttcagtttcaacgtggtatgcaccaatgtgctgggtaatgccgcccgcttcgccagaggccactttcgttgaacgaatgtagtccagcagagaggttttaccgtggtcaacgtgacccatgatggtcacaaccggcgcgcgcggttcagccgcagcacccgtgtcacggtcgctcattaccgcctcttccagctcgttttcacgacgcaggataactttatggcccatctcttcagcaaccagctgtgcggtttcctgatcgataacctggttgatggttgccattgcgcccagtttcatcatcgctttgatgacctgagagcctttaaccgccatcttgttcgccagttcgccaacggtgatagtttcgccgatcacaacgtcacggttaacggcctgagcaggcttctggaagccttgctgcagcgaagaacctttacgttttccgcctttaccgccacgtactgctgcgcgtgcttcttcacgatcagcttttgattcagcgtgtttgttgcctttcttcggacgcgctgctttcgcgttacgaccacggccacggccgccttcgacttcacgatcgctttcgtcttctgcctggcgagcatgttgagaagtagtgacgtgataatcgctggaatcttcagtcggttccgcgttatcagtccatttgttttcttccgccatacgacgtgcttcttcagcaacgcgacgtgcttcttcttcgagtttacgacgcgcttcttcttcagctttacgcttgagctctgcagcttcctgctcacggcgggctttttcagcctgggcgtttttagtcatatcgtcttgttgattgctcactttgtctttttccgcagcttcacgtttcgcttgttcagcagcttcacgcttagcttgttctgcggcctcacgttcagctttttgttgcgcctcgcgtttagccgattcttctgcctcacgacgggcttgctcttccgcttcacgctgcgcttgctcttccgctgcaaggcgttcagcctcttgcggatcgcgtttcacaaaggtgcgtttcttgcggacttcgatttgtaccgatttgctttttccaccggtaccaggaatgttaagggtgctgcgtgttttacgttgcagcgtcaatttgtccgggcctgaatttttctgattcaggtggtcaatcaaagtctgtttctcttgtgcagacacagagtcgtcagcagacttccggatacctgcatcagcaaattgctgtaccaggcgttccacggaggtctgtcgctctgcggccagcgttttaatcgttacatctgtcatgctgttccttcctgctacagtttattacgcttcgtcaccgaaccagcaaatattacgggcagccataatcagtgctccggctttttcgtcggtcaacccttcgatatcagccagatcatcaatgccctgttcggcgagatcttccagcgtacaaacgccacgggcggccagtttgaatgccaaatcacgatctaccccttcaaggttcagcagatcgtcagccggtttgttatcaccgaggctttcttcctgggcctgtgcaatggtggccagtgcatttttagcacgctcgcgcagtgcttcaacggtcggctcatcaaggccttcgatttccaacagctctttcatcggcacataggccaattcttccagcgtcgagaagccttcttctaccagaacagtcgcgaagtcttcgtcgatgtcgagatatttggtgaaggtgtcgatcgctgcgtgcgcttccgcctgatgcttagcctgcaggtcgtcaacggtcatcacgttgagttcccaaccgctcagctgcgaagccagacgcacgttctgaccgttacggccaatcgcctgcgccaggttaccggcttcaacggcgatatccatggtgtgtttatcttcatccaccacgatagaagcaacgtctgccggtgccattgcgttaatcacgaactgcgccgggttatcatcccacaggacgatatcgatacgctcgccacccagttcagtagacaccgcctgaacacgcgcgccacgcatacctacgcaagcacctaccggatcgatacgtttatcgttggttttcaccgcgattttcgcacgagaacccggatcgcgagccgctgctttaatttcaatcacttcttcgccgatttctggcacttcaatacggaacagttcgatcagcatttccggcttggaacgagtgacgaacagttgcgcgccacgcgcttccgggcgaacggaatagagcacgccacgaacgcggtcgccagggcggaagttttcacgcggcagcatatcttcgcgcaggatcacggcttcagcgttgttgcccagatccagagagatgttgtcgcggtttacttttttcaccacgccggtgatgatttcaccttcgtgttcacggaactgatcaaccaccatcgcacgttcggcttcacgcactttctgcacgataacctgttttgccgtctgggtagtgatacggtcaaaggtaacagactcaatctgatcttcaacgtaatcgcccaggttcaggctttcatcttcataacgtgcggcttcaagggtgatttccttggtcggctgggtgacttcatcaacaactaaccagcgacggaaagtgtcaaaatcaccgcttttgcgatcgatctgtacgcggacgtcgatctcttgttcatattttttctttgttgctgtcgccagcgcgctttccaatgcttcgaaaatcttctcgcgaggtagcgccttttcattggatacggcttcaactacagccaaaatttctttgttcatcgcgggcttttcacctcatccagactattaaaagtggggaaccaggttcgccttctggatattactcagcgcgaacacttcatctttaccttcgacggtaactgtgatcatttcaccgtctaccgctttgataacgccctgccatttacgacggttttgtaccgccatacggagaaccagagtcacctcttctccgacaaaacgggcgtagtgttcagccgtgaacagtgggcgatcgagacccggtgaggagacttccaggttataagcaacggtgatgggatcttcaacatccagcacagcacttacctggtggctcacatcagcacaatcatcaacattgatgccatcttcactatcaatatagatgcgcagtgtggatgtgcgaccgcgaataaattcgatgccaaccagttcaaaacccagggcctcaactggcgcagtaatcatctctgttaatttttgctctaatgtggacaagcccacccccaagacataaaaaaagggcctaaagcccagttattctgtagtcagataacaaaaaaccccgataaatcggggctttatataactgaaccctataaccgcaactgcggtctggagcactttccagaaggattttttcaaatcccactacgaaggccgaagtcttcacagtatatttgaaaaaggactctaagggaaagtggttgcgggggccggatttgaaccgacgatcttcgggttatgagcccgacgagctaccaggctgctccaccccgcgcctgaaacgtggcaaattctactcgttttgggtaaaaaatgcaaatactgctgggatttggtgtaccgagacgggacgtaaaatctgcaggcattatagtgatccacgccacattttgtcaacgtttattgctaatcatgtgaatgaatatccagttcactttcatttgttgaatacttttgccttctcctgctctcccttaagcgcattattttacaaaaaacacactaaactcttcctgtctccgataaaagatgattaaatgaaaactcatttattttgcataaaaattcagtgagagcggaaatccaggctcatcatcagttaattaagcagggtgttattttatgacgacgattctcaagcatctcccggtaggtcaacgtattggtatcgctttttctggcggtctggacaccagtgccgcactgctgtggatgcgacaaaagggagcggttccttatgcatatactgcaaacctgggccagccagacgaagaggattatgatgcgatccctcgtcgtgccatggaatacggcgcggagaacgcacgtctgatcgactgccgcaaacaactggtggccgaaggtattgccgctattcagtgtggcgcatttcataacaccaccggcggcctgacctatttcaacacgacgccgctgggccgcgccgtgactggtaccatgctggttgctgcgatgaaagaagatggcgtgaatatctggggtgacggtagcacctacaaaggaaacgatatcgaacgtttctatcgttatggtctgctgaccaatgctgaactgcagatttacaaaccgtggcttgatactgactttattgatgaactgggcg'\n"
          ],
          "name": "stdout"
        }
      ]
    }
  ]
}